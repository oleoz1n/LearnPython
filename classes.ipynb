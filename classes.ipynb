{
 "cells": [
  {
   "cell_type": "markdown",
   "metadata": {},
   "source": [
    "# Uma classe simples com Student e Grade"
   ]
  },
  {
   "cell_type": "code",
   "execution_count": 1,
   "metadata": {},
   "outputs": [
    {
     "name": "stdout",
     "output_type": "stream",
     "text": [
      "90.0\n"
     ]
    }
   ],
   "source": [
    "class SimpleGradebook:\n",
    "    def __init__(self):  # constructor -> __init__\n",
    "        # self -> instance of the class\n",
    "        self._grades = {}\n",
    "\n",
    "    def add_student(self, name):\n",
    "        self._grades[name] = []\n",
    "\n",
    "    def report_grade(self, name, score):\n",
    "        self._grades[name].append(score)\n",
    "\n",
    "    def average_grade(self, name):\n",
    "        grades = self._grades[name]\n",
    "        return sum(grades) / len(grades)\n",
    "\n",
    "\n",
    "book = SimpleGradebook()\n",
    "book.add_student(\"Isaac Newton\")  # add student in the gradebook (dictionary)\n",
    "book.report_grade(\"Isaac Newton\", 90)  # report grade for the student\n",
    "\n",
    "print(book.average_grade(\"Isaac Newton\"))  # 90.0"
   ]
  },
  {
   "cell_type": "markdown",
   "metadata": {},
   "source": [
    "# Classe GradeBook Subject e Student separadas"
   ]
  },
  {
   "cell_type": "code",
   "execution_count": 2,
   "metadata": {},
   "outputs": [
    {
     "name": "stdout",
     "output_type": "stream",
     "text": [
      "80.0\n"
     ]
    }
   ],
   "source": [
    "import collections\n",
    "\n",
    "Grade = collections.namedtuple(\"Grade\", (\"score\", \"weight\"))\n",
    "\n",
    "class Subject:\n",
    "    def __init__(self):\n",
    "        self._grades = {}\n",
    "\n",
    "    def report_grade(self, name, score, weight):\n",
    "        self._grades[name] = Grade(score, weight)\n",
    "    \n",
    "    def average_grade(self):\n",
    "        total, total_weight = 0, 0\n",
    "        for grade in self._grades.values():\n",
    "            total += grade.score * grade.weight\n",
    "            total_weight += grade.weight\n",
    "        return total / total_weight\n",
    "    \n",
    "class Student:\n",
    "    def __init__(self):\n",
    "        self._subjects = {}\n",
    "\n",
    "    def subject(self, name):\n",
    "        if name not in self._subjects:\n",
    "            self._subjects[name] = Subject()\n",
    "        return self._subjects[name]\n",
    "    \n",
    "    def average_grade(self):\n",
    "        total, count = 0, 0\n",
    "        for subject in self._subjects.values():\n",
    "            total += subject.average_grade()\n",
    "            count += 1\n",
    "        return total / count\n",
    "    \n",
    "class Gradebook:\n",
    "    def __init__(self):\n",
    "        self._students = {}\n",
    "\n",
    "    def student(self, name):\n",
    "        if name not in self._students:\n",
    "            self._students[name] = Student()\n",
    "        return self._students[name]\n",
    "    \n",
    "book = Gradebook()\n",
    "albert = book.student(\"Albert Einstein\")\n",
    "math = albert.subject(\"Math\")\n",
    "math.report_grade(\"calculus\", 80, 0.1)\n",
    "\n",
    "print(albert.average_grade())  # 80.0"
   ]
  },
  {
   "cell_type": "markdown",
   "metadata": {},
   "source": [
    "# Sempre que a classe for chamada ela executará um código"
   ]
  },
  {
   "cell_type": "code",
   "execution_count": null,
   "metadata": {},
   "outputs": [
    {
     "name": "stdout",
     "output_type": "stream",
     "text": [
      "1\n"
     ]
    }
   ],
   "source": [
    "class BetterCountMissing:\n",
    "    def __init__(self):\n",
    "        self.added = 0\n",
    "\n",
    "    def __call__(self):\n",
    "        self.added += 1\n",
    "        return 0\n",
    "    \n",
    "counter = BetterCountMissing()\n",
    "counter()  # counter.added = 1\n",
    "assert callable(counter)  # True -> Callabe checa se o objeto é chamável"
   ]
  },
  {
   "cell_type": "markdown",
   "metadata": {},
   "source": [
    "# Herança"
   ]
  },
  {
   "cell_type": "code",
   "execution_count": 6,
   "metadata": {},
   "outputs": [
    {
     "name": "stdout",
     "output_type": "stream",
     "text": [
      "There are 5344 lines\n"
     ]
    }
   ],
   "source": [
    "class InputData:\n",
    "    def read(self):\n",
    "        raise NotImplementedError\n",
    "    \n",
    "class PathInputData(InputData):\n",
    "    def __init__(self, path):\n",
    "        super().__init__() # chama o construtor da classe pai\n",
    "        self.path = path\n",
    "    \n",
    "    # método abstrato -> deve ser implementado pelas classes filhas\n",
    "    def read(self):\n",
    "        return open(self.path).read()\n",
    "    \n",
    "class Worker:\n",
    "    def __init__(self, input_data):\n",
    "        self.input_data = input_data\n",
    "        self.result = None\n",
    "    \n",
    "    def map(self):\n",
    "        raise NotImplementedError\n",
    "    \n",
    "    def reduce(self, other): \n",
    "        raise NotImplementedError\n",
    "    \n",
    "class LineCountWorker(Worker):\n",
    "    def map(self): # map -> conta o número de linhas\n",
    "        data = self.input_data.read()\n",
    "        self.result = data.count(\"\\n\")\n",
    "    \n",
    "    def reduce(self, other): # reduce -> soma o número de linhas\n",
    "        self.result += other.result\n",
    "        \n",
    "import os\n",
    "\n",
    "def generate_inputs(data_dir):\n",
    "    for name in os.listdir(data_dir):\n",
    "        yield PathInputData(os.path.join(data_dir, name)) # yield -> gera um objeto iterável com os dados\n",
    "        \n",
    "def create_workers(input_list):\n",
    "    workers = []\n",
    "    for input_data in input_list:\n",
    "        workers.append(LineCountWorker(input_data)) # cria um worker para cada input\n",
    "    return workers\n",
    "\n",
    "from threading import Thread # Thread -> executa várias tarefas ao mesmo tempo\n",
    "\n",
    "def execute(workers):\n",
    "    threads = [Thread(target=worker.map) for worker in workers] # cria uma thread para cada worker\n",
    "    for thread in threads:\n",
    "        thread.start()\n",
    "    for thread in threads:\n",
    "        thread.join()\n",
    "        \n",
    "    first, rest = workers[0], workers[1:]\n",
    "    for worker in rest:\n",
    "        first.reduce(worker) # reduce -> soma o número de linhas\n",
    "    return first.result\n",
    "\n",
    "def mapreduce(data_dir):\n",
    "    inputs = generate_inputs(data_dir)\n",
    "    workers = create_workers(inputs)\n",
    "    return execute(workers)\n",
    "\n",
    "import random\n",
    "\n",
    "def write_test_files(tmpdir):\n",
    "    for i in range(100):\n",
    "        with open(os.path.join(tmpdir, str(i)), \"w\") as f:\n",
    "            f.write(\"\\n\" * random.randint(0, 100))\n",
    "            \n",
    "import tempfile\n",
    "\n",
    "with tempfile.TemporaryDirectory() as tmpdir: # cria um diretório temporário para armazenar os arquivos\n",
    "    write_test_files(tmpdir) # escreve os arquivos de teste\n",
    "    result = mapreduce(tmpdir) # executa o mapreduce\n",
    "    \n",
    "print(f\"There are {result} lines\")\n"
   ]
  },
  {
   "cell_type": "markdown",
   "metadata": {},
   "source": [
    "# Simplificando com cls-> instancia a classe nela mesma"
   ]
  },
  {
   "cell_type": "code",
   "execution_count": null,
   "metadata": {},
   "outputs": [
    {
     "name": "stdout",
     "output_type": "stream",
     "text": [
      "There are 4978 lines\n"
     ]
    }
   ],
   "source": [
    "class GenericInputData:\n",
    "    def read(self):\n",
    "        raise NotImplementedError\n",
    "    \n",
    "    @classmethod # método de classe -> pode ser chamado sem instanciar a classe\n",
    "    def generate_inputs(cls, config): # cls -> referência à classe, normalmente usado em métodos de classe\n",
    "        raise NotImplementedError\n",
    "    \n",
    "class PathInputData(GenericInputData):\n",
    "    def __init__(self, path):\n",
    "        super().__init__()\n",
    "        self.path = path\n",
    "    \n",
    "    def read(self):\n",
    "        return open(self.path).read()\n",
    "    \n",
    "    @classmethod\n",
    "    def generate_inputs(cls, config): # config -> dicionário com as configurações\n",
    "        data_dir = config[\"data_dir\"] # data_dir -> diretório com os dados\n",
    "        for name in os.listdir(data_dir): # lista os arquivos no diretório\n",
    "            yield cls(os.path.join(data_dir, name)) # cria um objeto PathInputData para cada arquivo\n",
    "            \n",
    "class GenericWorker:\n",
    "    def __init__(self, input_data):\n",
    "        self.input_data = input_data\n",
    "        self.result = None\n",
    "    \n",
    "    def map(self):\n",
    "        raise NotImplementedError\n",
    "    \n",
    "    def reduce(self, other):\n",
    "        raise NotImplementedError\n",
    "    \n",
    "    @classmethod\n",
    "    def create_workers(cls, input_class, config):\n",
    "        workers = []\n",
    "        for input_data in input_class.generate_inputs(config): # gera os inputs\n",
    "            workers.append(cls(input_data)) # cria um worer para cada input\n",
    "        return workers\n",
    "    \n",
    "class LineCountWorker(GenericWorker):\n",
    "    def map(self):\n",
    "        data = self.input_data.read()\n",
    "        self.result = data.count(\"\\n\")\n",
    "    \n",
    "    def reduce(self, other):\n",
    "        self.result += other.result\n",
    "        \n",
    "def mapreduce(worker_class, input_class, config):\n",
    "    workers = worker_class.create_workers(input_class, config)\n",
    "    return execute(workers)\n",
    "\n",
    "from tempfile import TemporaryDirectory\n",
    "\n",
    "with TemporaryDirectory() as tmpdir:\n",
    "    write_test_files(tmpdir)\n",
    "    config = {\"data_dir\": tmpdir}\n",
    "    result = mapreduce(LineCountWorker, PathInputData, config)\n",
    "\n",
    "print(f\"There are {result} lines\")"
   ]
  }
 ],
 "metadata": {
  "kernelspec": {
   "display_name": "Python 3",
   "language": "python",
   "name": "python3"
  },
  "language_info": {
   "codemirror_mode": {
    "name": "ipython",
    "version": 3
   },
   "file_extension": ".py",
   "mimetype": "text/x-python",
   "name": "python",
   "nbconvert_exporter": "python",
   "pygments_lexer": "ipython3",
   "version": "3.11.9"
  }
 },
 "nbformat": 4,
 "nbformat_minor": 2
}
